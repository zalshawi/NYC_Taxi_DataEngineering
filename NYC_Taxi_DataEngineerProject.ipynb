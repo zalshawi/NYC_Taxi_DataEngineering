{
 "cells": [
  {
   "cell_type": "markdown",
   "id": "96569ec8-a7a2-4543-a747-052387c8eb97",
   "metadata": {
    "tags": []
   },
   "source": [
    "# NYC Taxi Data Engineer Project <a name=\"overview\"></a>\n",
    "\n",
    "## Overview \n",
    "This project aims to develop a dimensional model for `NYC Taxi` dataset. By structuring the data into a dimensional model, perform data normalization, ingest data into `SQL Alchemy` tables.\n",
    "\n",
    "\n",
    "- **Dateset**: [Yellow Tripdata 2024-Feb](https://www.nyc.gov/site/tlc/about/tlc-trip-record-data.page)\n",
    "- **Data Dictionary**: [Yello Tripdata](https://www.nyc.gov/assets/tlc/downloads/pdf/data_dictionary_trip_records_yellow.pdf)\n",
    "- **Data Wrangling**: `Pandas` for transforming and shaping data.\n",
    "- **Database Management**: `SQLAlchemy` for ORM-based interactions with SQL Server.\n",
    "\n",
    "## Contributors\n",
    "- [![LinkedIn](https://img.shields.io/badge/-Ziyad_Alshawi-blue?style=flat&logo=LinkedIn)](https://www.linkedin.com/in/zalshawi)\n",
    "- [![LinkedIn](https://img.shields.io/badge/-Abdullah_Alqahtani-blue?style=flat&logo=LinkedIn)](https://www.linkedin.com/in/Abdullah-alqahtani-987b69197) "
   ]
  },
  {
   "cell_type": "markdown",
   "id": "bec88e35-9369-49ed-a2d5-4192725c8fa5",
   "metadata": {},
   "source": [
    "# Table of Contents\n",
    "\n",
    "- [Overview](#overview)\n",
    "- [Data Preparation](#data_preparation)\n",
    "- [Data Normalization](#data_normalization)\n",
    "- [Define SQL Alchemy schema](#sqlalchemy)\n",
    "- [Insert Data into SQL Database](#Insert_data)\n"
   ]
  },
  {
   "cell_type": "markdown",
   "id": "b9c17cb3",
   "metadata": {
    "tags": []
   },
   "source": [
    "## Data Preparation<a name=\"data_preparation\"></a>"
   ]
  },
  {
   "cell_type": "markdown",
   "id": "e4b6eb86",
   "metadata": {},
   "source": [
    "#### Load libraries\n"
   ]
  },
  {
   "cell_type": "code",
   "execution_count": 1,
   "id": "19e4b060",
   "metadata": {},
   "outputs": [],
   "source": [
    "import pandas as pd\n",
    "import urllib\n",
    "from sqlalchemy import create_engine, Column, Integer, String, Float, DateTime, ForeignKey, DATETIME\n",
    "from sqlalchemy.orm import declarative_base, sessionmaker, relationship"
   ]
  },
  {
   "cell_type": "markdown",
   "id": "753dc1a0",
   "metadata": {},
   "source": [
    "#### Load Data\n"
   ]
  },
  {
   "cell_type": "code",
   "execution_count": 2,
   "id": "6d8b7a1d",
   "metadata": {},
   "outputs": [
    {
     "data": {
      "text/html": [
       "<div>\n",
       "<style scoped>\n",
       "    .dataframe tbody tr th:only-of-type {\n",
       "        vertical-align: middle;\n",
       "    }\n",
       "\n",
       "    .dataframe tbody tr th {\n",
       "        vertical-align: top;\n",
       "    }\n",
       "\n",
       "    .dataframe thead th {\n",
       "        text-align: right;\n",
       "    }\n",
       "</style>\n",
       "<table border=\"1\" class=\"dataframe\">\n",
       "  <thead>\n",
       "    <tr style=\"text-align: right;\">\n",
       "      <th></th>\n",
       "      <th>VendorID</th>\n",
       "      <th>tpep_pickup_datetime</th>\n",
       "      <th>tpep_dropoff_datetime</th>\n",
       "      <th>passenger_count</th>\n",
       "      <th>trip_distance</th>\n",
       "      <th>RatecodeID</th>\n",
       "      <th>store_and_fwd_flag</th>\n",
       "      <th>PULocationID</th>\n",
       "      <th>DOLocationID</th>\n",
       "      <th>payment_type</th>\n",
       "      <th>fare_amount</th>\n",
       "      <th>extra</th>\n",
       "      <th>mta_tax</th>\n",
       "      <th>tip_amount</th>\n",
       "      <th>tolls_amount</th>\n",
       "      <th>improvement_surcharge</th>\n",
       "      <th>total_amount</th>\n",
       "      <th>congestion_surcharge</th>\n",
       "      <th>Airport_fee</th>\n",
       "    </tr>\n",
       "  </thead>\n",
       "  <tbody>\n",
       "    <tr>\n",
       "      <th>0</th>\n",
       "      <td>2</td>\n",
       "      <td>2024-02-01 00:04:45</td>\n",
       "      <td>2024-02-01 00:19:58</td>\n",
       "      <td>1.0</td>\n",
       "      <td>4.39</td>\n",
       "      <td>1.0</td>\n",
       "      <td>N</td>\n",
       "      <td>68</td>\n",
       "      <td>236</td>\n",
       "      <td>1</td>\n",
       "      <td>20.5</td>\n",
       "      <td>1.0</td>\n",
       "      <td>0.5</td>\n",
       "      <td>1.28</td>\n",
       "      <td>0.00</td>\n",
       "      <td>1.0</td>\n",
       "      <td>26.78</td>\n",
       "      <td>2.5</td>\n",
       "      <td>0.00</td>\n",
       "    </tr>\n",
       "    <tr>\n",
       "      <th>1</th>\n",
       "      <td>2</td>\n",
       "      <td>2024-02-01 00:56:31</td>\n",
       "      <td>2024-02-01 01:10:53</td>\n",
       "      <td>1.0</td>\n",
       "      <td>7.71</td>\n",
       "      <td>1.0</td>\n",
       "      <td>N</td>\n",
       "      <td>48</td>\n",
       "      <td>243</td>\n",
       "      <td>1</td>\n",
       "      <td>31.0</td>\n",
       "      <td>1.0</td>\n",
       "      <td>0.5</td>\n",
       "      <td>9.00</td>\n",
       "      <td>0.00</td>\n",
       "      <td>1.0</td>\n",
       "      <td>45.00</td>\n",
       "      <td>2.5</td>\n",
       "      <td>0.00</td>\n",
       "    </tr>\n",
       "    <tr>\n",
       "      <th>2</th>\n",
       "      <td>2</td>\n",
       "      <td>2024-02-01 00:07:50</td>\n",
       "      <td>2024-02-01 00:43:12</td>\n",
       "      <td>2.0</td>\n",
       "      <td>28.69</td>\n",
       "      <td>2.0</td>\n",
       "      <td>N</td>\n",
       "      <td>132</td>\n",
       "      <td>261</td>\n",
       "      <td>2</td>\n",
       "      <td>70.0</td>\n",
       "      <td>0.0</td>\n",
       "      <td>0.5</td>\n",
       "      <td>0.00</td>\n",
       "      <td>6.94</td>\n",
       "      <td>1.0</td>\n",
       "      <td>82.69</td>\n",
       "      <td>2.5</td>\n",
       "      <td>1.75</td>\n",
       "    </tr>\n",
       "  </tbody>\n",
       "</table>\n",
       "</div>"
      ],
      "text/plain": [
       "   VendorID tpep_pickup_datetime tpep_dropoff_datetime  passenger_count  \\\n",
       "0         2  2024-02-01 00:04:45   2024-02-01 00:19:58              1.0   \n",
       "1         2  2024-02-01 00:56:31   2024-02-01 01:10:53              1.0   \n",
       "2         2  2024-02-01 00:07:50   2024-02-01 00:43:12              2.0   \n",
       "\n",
       "   trip_distance  RatecodeID store_and_fwd_flag  PULocationID  DOLocationID  \\\n",
       "0           4.39         1.0                  N            68           236   \n",
       "1           7.71         1.0                  N            48           243   \n",
       "2          28.69         2.0                  N           132           261   \n",
       "\n",
       "   payment_type  fare_amount  extra  mta_tax  tip_amount  tolls_amount  \\\n",
       "0             1         20.5    1.0      0.5        1.28          0.00   \n",
       "1             1         31.0    1.0      0.5        9.00          0.00   \n",
       "2             2         70.0    0.0      0.5        0.00          6.94   \n",
       "\n",
       "   improvement_surcharge  total_amount  congestion_surcharge  Airport_fee  \n",
       "0                    1.0         26.78                   2.5         0.00  \n",
       "1                    1.0         45.00                   2.5         0.00  \n",
       "2                    1.0         82.69                   2.5         1.75  "
      ]
     },
     "execution_count": 2,
     "metadata": {},
     "output_type": "execute_result"
    }
   ],
   "source": [
    "# Relative path for dataset\n",
    "file_path = 'data/yellow_tripdata_2024-02.parquet'\n",
    "\n",
    "# Load file into a DataFrame\n",
    "df = pd.read_parquet(file_path)\n",
    "\n",
    "# Display the few rows\n",
    "df.head(3)"
   ]
  },
  {
   "cell_type": "markdown",
   "id": "00b078e2-0bd6-4c3b-878b-fbb5ccf8e27e",
   "metadata": {},
   "source": [
    "#### Data Cleaning and Preprocessing\n"
   ]
  },
  {
   "cell_type": "code",
   "execution_count": 3,
   "id": "e42c6a1d",
   "metadata": {
    "tags": []
   },
   "outputs": [],
   "source": [
    "# Remove duplicate if exist\n",
    "df.drop_duplicates()\n",
    "\n",
    "# Convert to datetime\n",
    "df['tpep_pickup_datetime'] = pd.to_datetime(df['tpep_pickup_datetime'])\n",
    "df['tpep_dropoff_datetime'] = pd.to_datetime(df['tpep_dropoff_datetime'])\n",
    "\n",
    "# Calculate the duration by subtracting pickup datetime from dropoff datetime\n",
    "df['trip_duration'] = df['tpep_dropoff_datetime'] - df['tpep_pickup_datetime']\n",
    "df['trip_duration'] = df['trip_duration'].apply(lambda x: x.total_seconds())\n"
   ]
  },
  {
   "cell_type": "markdown",
   "id": "235902a1",
   "metadata": {},
   "source": [
    "## Data Normalization <a name=\"data_normalization\"></a>\n",
    "\n",
    "Split dataframe into fact table and dimensions.\n",
    "\n",
    "![data_model](data_model.png)"
   ]
  },
  {
   "cell_type": "markdown",
   "id": "5b9e1905",
   "metadata": {},
   "source": [
    "#### Define Dimension DataFrames"
   ]
  },
  {
   "cell_type": "code",
   "execution_count": 4,
   "id": "7d2ecd5f",
   "metadata": {},
   "outputs": [],
   "source": [
    "dim_datetime_columns = ['tpep_pickup_datetime', 'tpep_dropoff_datetime', 'trip_duration']\n",
    "\n",
    "dim_datetime = df[dim_datetime_columns].drop_duplicates()\n",
    "\n",
    "# Add foregin Key\n",
    "dim_datetime['datetime_id'] = range(1, len(dim_datetime) + 1)\n"
   ]
  },
  {
   "cell_type": "code",
   "execution_count": 5,
   "id": "a774aa7a",
   "metadata": {},
   "outputs": [],
   "source": [
    "# Data Dectionary contain additional context\n",
    "\n",
    "# Create Dim_Payment \n",
    "payment = {\n",
    "    'payment_type': [1, 2, 3, 4, 5, 6], \n",
    "    'payment_type_name':['Credit card', 'Cash', 'No charge','Dispute', 'Unknown','Voided trip']\n",
    "}\n",
    "\n",
    "\n",
    "# Create Dim_Payment\n",
    "\n",
    "rate_code = { \n",
    "    'RatecodeID': [1, 2, 3, 4, 5, 6], \n",
    "    'rate_code_name' : [\"Standard rate\", \"JFK\", \"Newark\", \"Nassau or Westchester\", \"Negotiated fare\", \"Group ride\"],\n",
    "    'rate_code_description' : [\n",
    "        \"The default fare charged for trips within the standard service area.\",\n",
    "        \"Applies to trips to or from John F. Kennedy International Airport.\",\n",
    "        \"Applies to trips to or from Newark Liberty International Airport.\",\n",
    "        \"Applies to trips to areas outside the standard service area.\",\n",
    "        \"Special rates agreed upon between the passenger and the service provider.\",\n",
    "        \"Applies to trips where multiple passengers share the ride, typically resulting in a discounted fare per person.\"\n",
    "    ]\n",
    "}\n",
    "\n",
    "dim_payment = pd.DataFrame(payment)\n",
    "dim_rate = pd.DataFrame(rate_code)"
   ]
  },
  {
   "cell_type": "markdown",
   "id": "c481c84c-7b77-42a4-b4d8-c3efaf90be12",
   "metadata": {},
   "source": [
    "#### Define Fact DataFrame"
   ]
  },
  {
   "cell_type": "code",
   "execution_count": 6,
   "id": "2051c7ff",
   "metadata": {},
   "outputs": [],
   "source": [
    "# Create Fact Table for trips\n",
    "fact_table = df.merge(dim_datetime, how='left', on=['tpep_pickup_datetime','tpep_dropoff_datetime', 'trip_duration']) \\\n",
    "               .merge(dim_payment, how='left', on='payment_type') \\\n",
    "               .merge(dim_rate, how='left', on='RatecodeID') \\\n",
    "               [['VendorID', 'datetime_id', 'payment_type',  'RatecodeID',\n",
    "                 'PULocationID', 'DOLocationID','passenger_count', 'trip_distance', 'store_and_fwd_flag', \n",
    "                  'fare_amount', 'extra','mta_tax', 'tip_amount', 'tolls_amount', 'improvement_surcharge',\n",
    "                  'total_amount', 'congestion_surcharge', 'Airport_fee']]\n"
   ]
  },
  {
   "cell_type": "markdown",
   "id": "7d90305d",
   "metadata": {},
   "source": [
    "## Define SQLAlchemy Tables <a name=\"sqlalchemy\"></a>"
   ]
  },
  {
   "cell_type": "code",
   "execution_count": 7,
   "id": "6ee73c0a",
   "metadata": {},
   "outputs": [],
   "source": [
    "Base = declarative_base()\n",
    "\n",
    "class FactTable(Base):\n",
    "    __tablename__ = 'fact_table'\n",
    "    Trip_id = Column(Integer, primary_key=True)\n",
    "    VendorID = Column(Integer)\n",
    "    datetime_id = Column(Integer, ForeignKey('dim_datetime.Datetime_id'))\n",
    "    payment_type = Column(Integer, ForeignKey('dim_payment.payment_type'))\n",
    "    RatecodeID = Column(Integer, ForeignKey('dim_rate.RatecodeID'))\n",
    "    PULocationID = Column(Integer)\n",
    "    DOLocationID = Column(Integer)\n",
    "    trip_distance = Column(Float)\n",
    "    passenger_count = Column(Integer)\n",
    "    store_and_fwd_flag = Column(String)\n",
    "    fare_amount = Column(Float)\n",
    "    extra = Column(Float)\n",
    "    mta_tax = Column(Float)\n",
    "    tip_amount = Column(Float)\n",
    "    tolls_amount = Column(Float)\n",
    "    improvement_surcharge = Column(Float)\n",
    "    congestion_surcharge = Column(Float)\n",
    "    Airport_fee = Column(Float)\n",
    "    total_amount = Column(Float)\n",
    "\n",
    "class DimDatetime(Base):\n",
    "    __tablename__ = 'dim_datetime'\n",
    "    Datetime_id = Column(Integer, primary_key=True)\n",
    "    tpep_pickup_datetime = Column(DateTime)\n",
    "    tpep_dropoff_datetime = Column(DateTime)\n",
    "    trip_duration = Column(Float)\n",
    "\n",
    "class DimPayment(Base):\n",
    "    __tablename__ = 'dim_payment'\n",
    "    payment_type = Column(Integer, primary_key=True)\n",
    "    payment_type_name = Column(String)\n",
    "\n",
    "class DimRate(Base):\n",
    "    __tablename__ = 'dim_rate'\n",
    "    RatecodeID = Column(Integer, primary_key=True)\n",
    "    rate_code_name = Column(String)\n",
    "    rate_code_description = Column(String)\n"
   ]
  },
  {
   "cell_type": "markdown",
   "id": "639ed5bc-b1d1-4b6c-8b32-890bada855d4",
   "metadata": {},
   "source": [
    "#### Prepare connection"
   ]
  },
  {
   "cell_type": "markdown",
   "id": "099f6d53",
   "metadata": {},
   "source": [
    "Connect to SQL Server (Optional)"
   ]
  },
  {
   "cell_type": "code",
   "execution_count": null,
   "id": "ef3f5d89-dd63-40bf-b02c-8b25c64b6ebb",
   "metadata": {},
   "outputs": [],
   "source": [
    "# params = urllib.parse.quote_plus(f'DRIVER=ODBC Driver 17 for SQL Server;SERVER={server};DATABASE={database};UID={username};PWD={password}')\n",
    "\n",
    "# # Create engine\n",
    "# engine = create_engine(f'mssql+pyodbc:///?odbc_connect={params}', echo=True, future=True)\n",
    "\n",
    "# # Generate table if not exist\n",
    "# Base.metadata.create_all(engine)"
   ]
  },
  {
   "cell_type": "markdown",
   "id": "7a9c9350",
   "metadata": {},
   "source": [
    "Connect to SQLite"
   ]
  },
  {
   "cell_type": "code",
   "execution_count": 8,
   "id": "b57983bf",
   "metadata": {},
   "outputs": [
    {
     "name": "stdout",
     "output_type": "stream",
     "text": [
      "2024-04-28 19:16:13,226 INFO sqlalchemy.engine.Engine BEGIN (implicit)\n",
      "2024-04-28 19:16:13,229 INFO sqlalchemy.engine.Engine PRAGMA main.table_info(\"fact_table\")\n",
      "2024-04-28 19:16:13,230 INFO sqlalchemy.engine.Engine [raw sql] ()\n",
      "2024-04-28 19:16:13,234 INFO sqlalchemy.engine.Engine PRAGMA temp.table_info(\"fact_table\")\n",
      "2024-04-28 19:16:13,234 INFO sqlalchemy.engine.Engine [raw sql] ()\n",
      "2024-04-28 19:16:13,235 INFO sqlalchemy.engine.Engine PRAGMA main.table_info(\"dim_datetime\")\n",
      "2024-04-28 19:16:13,236 INFO sqlalchemy.engine.Engine [raw sql] ()\n",
      "2024-04-28 19:16:13,237 INFO sqlalchemy.engine.Engine PRAGMA temp.table_info(\"dim_datetime\")\n",
      "2024-04-28 19:16:13,237 INFO sqlalchemy.engine.Engine [raw sql] ()\n",
      "2024-04-28 19:16:13,238 INFO sqlalchemy.engine.Engine PRAGMA main.table_info(\"dim_payment\")\n",
      "2024-04-28 19:16:13,239 INFO sqlalchemy.engine.Engine [raw sql] ()\n",
      "2024-04-28 19:16:13,240 INFO sqlalchemy.engine.Engine PRAGMA temp.table_info(\"dim_payment\")\n",
      "2024-04-28 19:16:13,241 INFO sqlalchemy.engine.Engine [raw sql] ()\n",
      "2024-04-28 19:16:13,242 INFO sqlalchemy.engine.Engine PRAGMA main.table_info(\"dim_rate\")\n",
      "2024-04-28 19:16:13,242 INFO sqlalchemy.engine.Engine [raw sql] ()\n",
      "2024-04-28 19:16:13,243 INFO sqlalchemy.engine.Engine PRAGMA temp.table_info(\"dim_rate\")\n",
      "2024-04-28 19:16:13,243 INFO sqlalchemy.engine.Engine [raw sql] ()\n",
      "2024-04-28 19:16:13,247 INFO sqlalchemy.engine.Engine \n",
      "CREATE TABLE dim_datetime (\n",
      "\t\"Datetime_id\" INTEGER NOT NULL, \n",
      "\ttpep_pickup_datetime DATETIME, \n",
      "\ttpep_dropoff_datetime DATETIME, \n",
      "\ttrip_duration FLOAT, \n",
      "\tPRIMARY KEY (\"Datetime_id\")\n",
      ")\n",
      "\n",
      "\n",
      "2024-04-28 19:16:13,248 INFO sqlalchemy.engine.Engine [no key 0.00072s] ()\n",
      "2024-04-28 19:16:13,257 INFO sqlalchemy.engine.Engine \n",
      "CREATE TABLE dim_payment (\n",
      "\tpayment_type INTEGER NOT NULL, \n",
      "\tpayment_type_name VARCHAR, \n",
      "\tPRIMARY KEY (payment_type)\n",
      ")\n",
      "\n",
      "\n",
      "2024-04-28 19:16:13,259 INFO sqlalchemy.engine.Engine [no key 0.00197s] ()\n",
      "2024-04-28 19:16:13,269 INFO sqlalchemy.engine.Engine \n",
      "CREATE TABLE dim_rate (\n",
      "\t\"RatecodeID\" INTEGER NOT NULL, \n",
      "\trate_code_name VARCHAR, \n",
      "\trate_code_description VARCHAR, \n",
      "\tPRIMARY KEY (\"RatecodeID\")\n",
      ")\n",
      "\n",
      "\n",
      "2024-04-28 19:16:13,270 INFO sqlalchemy.engine.Engine [no key 0.00072s] ()\n",
      "2024-04-28 19:16:13,277 INFO sqlalchemy.engine.Engine \n",
      "CREATE TABLE fact_table (\n",
      "\t\"Trip_id\" INTEGER NOT NULL, \n",
      "\t\"VendorID\" INTEGER, \n",
      "\tdatetime_id INTEGER, \n",
      "\tpayment_type INTEGER, \n",
      "\t\"RatecodeID\" INTEGER, \n",
      "\t\"PULocationID\" INTEGER, \n",
      "\t\"DOLocationID\" INTEGER, \n",
      "\ttrip_distance FLOAT, \n",
      "\tpassenger_count INTEGER, \n",
      "\tstore_and_fwd_flag VARCHAR, \n",
      "\tfare_amount FLOAT, \n",
      "\textra FLOAT, \n",
      "\tmta_tax FLOAT, \n",
      "\ttip_amount FLOAT, \n",
      "\ttolls_amount FLOAT, \n",
      "\timprovement_surcharge FLOAT, \n",
      "\tcongestion_surcharge FLOAT, \n",
      "\t\"Airport_fee\" FLOAT, \n",
      "\ttotal_amount FLOAT, \n",
      "\tPRIMARY KEY (\"Trip_id\"), \n",
      "\tFOREIGN KEY(datetime_id) REFERENCES dim_datetime (\"Datetime_id\"), \n",
      "\tFOREIGN KEY(payment_type) REFERENCES dim_payment (payment_type), \n",
      "\tFOREIGN KEY(\"RatecodeID\") REFERENCES dim_rate (\"RatecodeID\")\n",
      ")\n",
      "\n",
      "\n",
      "2024-04-28 19:16:13,278 INFO sqlalchemy.engine.Engine [no key 0.00113s] ()\n",
      "2024-04-28 19:16:13,286 INFO sqlalchemy.engine.Engine COMMIT\n"
     ]
    }
   ],
   "source": [
    "# Create an engine to the database\n",
    "engine = create_engine('sqlite:///NYC_taxi.db', echo=True, future=True)\n",
    "\n",
    "# Generate table if not exist\n",
    "Base.metadata.create_all(engine)"
   ]
  },
  {
   "cell_type": "markdown",
   "id": "ce0a3ad0",
   "metadata": {},
   "source": [
    "## Insert Data into SQL Database <a name=\"Insert_data\"></a>"
   ]
  },
  {
   "cell_type": "markdown",
   "id": "8ac7ea6d",
   "metadata": {},
   "source": [
    "#### Create helper function to insert data"
   ]
  },
  {
   "cell_type": "code",
   "execution_count": 9,
   "id": "9e554e20",
   "metadata": {},
   "outputs": [],
   "source": [
    "# Create a function to insert into SQLAlchemy table\n",
    "def bulk_insert_from_dataframe(session, model, dataframe):\n",
    "    \"\"\" Inserts data from a pandas DataFrame into a SQLAlchemy table using bulk_insert_mappings.\"\"\"\n",
    "    try:\n",
    "        # Convert DataFrame to dictionary and perform bulk insert\n",
    "        data_to_insert = dataframe.to_dict(orient='records')\n",
    "        session.bulk_insert_mappings(model, data_to_insert)\n",
    "        session.commit()\n",
    "        print(f\"Data successfully inserted into {model.__tablename__} table.\")\n",
    "    except Exception as e:\n",
    "        session.rollback()\n",
    "        print(f\"An error occurred: {e}\")\n"
   ]
  },
  {
   "cell_type": "markdown",
   "id": "ccc597ab-756e-4188-a451-cd8f2e933232",
   "metadata": {},
   "source": [
    "#### Ingest data to SQL tables"
   ]
  },
  {
   "cell_type": "code",
   "execution_count": 10,
   "id": "b7d6cf5a",
   "metadata": {},
   "outputs": [
    {
     "name": "stdout",
     "output_type": "stream",
     "text": [
      "2024-04-28 19:18:06,479 INFO sqlalchemy.engine.Engine BEGIN (implicit)\n",
      "2024-04-28 19:19:21,768 INFO sqlalchemy.engine.Engine INSERT INTO fact_table (\"VendorID\", datetime_id, payment_type, \"RatecodeID\", \"PULocationID\", \"DOLocationID\", trip_distance, passenger_count, store_and_fwd_flag, fare_amount, extra, mta_tax, tip_amount, tolls_amount, improvement_surcharge, congestion_surcharge, \"Airport_fee\", total_amount) VALUES (?, ?, ?, ?, ?, ?, ?, ?, ?, ?, ?, ?, ?, ?, ?, ?, ?, ?)\n",
      "2024-04-28 19:19:21,838 INFO sqlalchemy.engine.Engine [generated in 34.27708s] [(2, 1, 1, 1.0, 68, 236, 4.39, 1.0, 'N', 20.5, 1.0, 0.5, 1.28, 0.0, 1.0, 2.5, 0.0, 26.78), (2, 2, 1, 1.0, 48, 243, 7.71, 1.0, 'N', 31.0, 1.0, 0.5, 9.0, 0.0, 1.0, 2.5, 0.0, 45.0), (2, 3, 2, 2.0, 132, 261, 28.69, 2.0, 'N', 70.0, 0.0, 0.5, 0.0, 6.94, 1.0, 2.5, 1.75, 82.69), (1, 4, 1, 1.0, 161, 163, 1.1, 1.0, 'N', 9.3, 3.5, 0.5, 2.85, 0.0, 1.0, 2.5, 0.0, 17.15), (1, 5, 2, 1.0, 246, 79, 2.6, 1.0, 'N', 15.6, 3.5, 0.5, 0.0, 0.0, 1.0, 2.5, 0.0, 20.6), (1, 6, 1, 1.0, 79, 4, 0.8, 1.0, 'N', 7.9, 3.5, 0.5, 2.55, 0.0, 1.0, 2.5, 0.0, 15.45), (2, 7, 1, 1.0, 249, 163, 2.76, 1.0, 'N', 14.2, 1.0, 0.5, 3.84, 0.0, 1.0, 2.5, 0.0, 23.04), (2, 8, 1, 1.0, 163, 151, 2.51, 1.0, 'N', 12.8, 1.0, 0.5, 3.56, 0.0, 1.0, 2.5, 0.0, 21.36)  ... displaying 10 of 2821916 total bound parameter sets ...  (1, 2784505, 1, 1.0, 142, 48, 1.5, 4.0, 'N', 9.3, 3.5, 0.5, 0.0, 0.0, 1.0, 2.5, 0.0, 14.3), (1, 2784506, 1, 1.0, 114, 264, 0.6, 1.0, 'N', 6.5, 3.5, 0.5, 0.0, 0.0, 1.0, 2.5, 0.0, 11.5)]\n",
      "2024-04-28 19:19:40,179 INFO sqlalchemy.engine.Engine INSERT INTO fact_table (\"VendorID\", datetime_id, payment_type, \"RatecodeID\", \"PULocationID\", \"DOLocationID\", trip_distance, passenger_count, fare_amount, extra, mta_tax, tip_amount, tolls_amount, improvement_surcharge, congestion_surcharge, \"Airport_fee\", total_amount) VALUES (?, ?, ?, ?, ?, ?, ?, ?, ?, ?, ?, ?, ?, ?, ?, ?, ?)\n",
      "2024-04-28 19:19:40,182 INFO sqlalchemy.engine.Engine [generated in 1.03431s] [(1, 2784507, 0, nan, 161, 229, 0.0, nan, 7.83, 0.0, 0.5, 0.0, 0.0, 1.0, nan, nan, 11.83), (1, 2784508, 0, nan, 231, 239, 0.0, nan, 24.0, 2.0, 0.5, 12.05, 0.0, 1.0, nan, nan, 44.05), (1, 2784509, 0, nan, 239, 161, 0.0, nan, 9.95, 0.0, 0.5, 0.0, 0.0, 1.0, nan, nan, 13.95), (2, 2784510, 0, nan, 114, 107, 0.81, nan, 6.83, 0.0, 0.5, 0.0, 0.0, 1.0, nan, nan, 10.83), (1, 2784511, 0, nan, 231, 249, 1.9, nan, 10.16, 0.0, 0.5, 0.0, 0.0, 1.0, nan, nan, 14.16), (2, 2784512, 0, nan, 239, 230, 2.39, nan, 12.96, 0.0, 0.5, 0.0, 0.0, 1.0, nan, nan, 16.96), (2, 2784513, 0, nan, 170, 50, 2.45, nan, 13.91, 0.0, 0.5, 0.0, 0.0, 1.0, nan, nan, 17.91), (2, 2784514, 0, nan, 231, 249, 1.41, nan, 11.74, 0.0, 0.5, 1.57, 0.0, 1.0, nan, nan, 17.31)  ... displaying 10 of 185610 total bound parameter sets ...  (1, 2969922, 0, nan, 164, 107, 0.0, nan, 14.37, 0.0, 0.5, 0.0, 0.0, 1.0, nan, nan, 18.37), (2, 2969923, 0, nan, 79, 142, 3.94, nan, 28.6, 0.0, 0.5, 0.0, 0.0, 1.0, nan, nan, 32.6)]\n",
      "2024-04-28 19:19:45,268 INFO sqlalchemy.engine.Engine COMMIT\n",
      "Data successfully inserted into fact_table table.\n",
      "2024-04-28 19:20:07,338 INFO sqlalchemy.engine.Engine BEGIN (implicit)\n",
      "2024-04-28 19:20:43,348 INFO sqlalchemy.engine.Engine INSERT INTO dim_datetime (tpep_pickup_datetime, tpep_dropoff_datetime, trip_duration) VALUES (?, ?, ?)\n",
      "2024-04-28 19:20:43,349 INFO sqlalchemy.engine.Engine [generated in 23.98084s] [('2024-02-01 00:04:45.000000', '2024-02-01 00:19:58.000000', 913.0), ('2024-02-01 00:56:31.000000', '2024-02-01 01:10:53.000000', 862.0), ('2024-02-01 00:07:50.000000', '2024-02-01 00:43:12.000000', 2122.0), ('2024-02-01 00:01:49.000000', '2024-02-01 00:10:47.000000', 538.0), ('2024-02-01 00:37:35.000000', '2024-02-01 00:51:15.000000', 820.0), ('2024-02-01 00:55:17.000000', '2024-02-01 01:01:53.000000', 396.0), ('2024-02-01 00:04:53.000000', '2024-02-01 00:17:07.000000', 734.0), ('2024-02-01 00:35:00.000000', '2024-02-01 00:43:37.000000', 517.0)  ... displaying 10 of 2969923 total bound parameter sets ...  ('2024-02-29 23:12:06.000000', '2024-02-29 23:21:53.000000', 587.0), ('2024-02-29 23:16:42.000000', '2024-02-29 23:37:45.000000', 1263.0)]\n",
      "2024-04-28 19:20:49,778 INFO sqlalchemy.engine.Engine COMMIT\n",
      "Data successfully inserted into dim_datetime table.\n",
      "2024-04-28 19:20:50,540 INFO sqlalchemy.engine.Engine BEGIN (implicit)\n",
      "2024-04-28 19:20:50,543 INFO sqlalchemy.engine.Engine INSERT INTO dim_payment (payment_type, payment_type_name) VALUES (?, ?)\n",
      "2024-04-28 19:20:50,544 INFO sqlalchemy.engine.Engine [generated in 0.00149s] [(1, 'Credit card'), (2, 'Cash'), (3, 'No charge'), (4, 'Dispute'), (5, 'Unknown'), (6, 'Voided trip')]\n",
      "2024-04-28 19:20:50,550 INFO sqlalchemy.engine.Engine COMMIT\n",
      "Data successfully inserted into dim_payment table.\n",
      "2024-04-28 19:20:50,560 INFO sqlalchemy.engine.Engine BEGIN (implicit)\n",
      "2024-04-28 19:20:50,562 INFO sqlalchemy.engine.Engine INSERT INTO dim_rate (\"RatecodeID\", rate_code_name, rate_code_description) VALUES (?, ?, ?)\n",
      "2024-04-28 19:20:50,564 INFO sqlalchemy.engine.Engine [generated in 0.00178s] [(1, 'Standard rate', 'The default fare charged for trips within the standard service area.'), (2, 'JFK', 'Applies to trips to or from John F. Kennedy International Airport.'), (3, 'Newark', 'Applies to trips to or from Newark Liberty International Airport.'), (4, 'Nassau or Westchester', 'Applies to trips to areas outside the standard service area.'), (5, 'Negotiated fare', 'Special rates agreed upon between the passenger and the service provider.'), (6, 'Group ride', 'Applies to trips where multiple passengers share the ride, typically resulting in a discounted fare per person.')]\n",
      "2024-04-28 19:20:50,569 INFO sqlalchemy.engine.Engine COMMIT\n",
      "Data successfully inserted into dim_rate table.\n"
     ]
    }
   ],
   "source": [
    "# Create session\n",
    "Session = sessionmaker(bind=engine, future=True)\n",
    "session = Session()\n",
    "\n",
    "# Example of inserting data into tables\n",
    "bulk_insert_from_dataframe(session, FactTable, fact_table)\n",
    "bulk_insert_from_dataframe(session, DimDatetime, dim_datetime)\n",
    "bulk_insert_from_dataframe(session, DimPayment, dim_payment)\n",
    "bulk_insert_from_dataframe(session, DimRate, dim_rate)\n",
    "\n",
    "\n",
    "# Close the session after all operations\n",
    "session.close()"
   ]
  },
  {
   "cell_type": "markdown",
   "id": "428ad060-a9c8-42ad-aeee-3d0cd1e1b51c",
   "metadata": {
    "jp-MarkdownHeadingCollapsed": true,
    "tags": []
   },
   "source": [
    "#### Ingest data to SQL Server (optional)"
   ]
  },
  {
   "cell_type": "code",
   "execution_count": null,
   "id": "617154ff-c14e-4709-8d59-276eab4ec82b",
   "metadata": {},
   "outputs": [
    {
     "name": "stdout",
     "output_type": "stream",
     "text": [
      "2024-04-28 16:34:01,489 INFO sqlalchemy.engine.Engine SELECT CAST(SERVERPROPERTY('ProductVersion') AS VARCHAR)\n",
      "2024-04-28 16:34:01,490 INFO sqlalchemy.engine.Engine [raw sql] ()\n",
      "2024-04-28 16:34:01,501 INFO sqlalchemy.engine.Engine SELECT schema_name()\n",
      "2024-04-28 16:34:01,502 INFO sqlalchemy.engine.Engine [generated in 0.00090s] ()\n",
      "2024-04-28 16:34:01,527 INFO sqlalchemy.engine.Engine SELECT CAST('test max support' AS NVARCHAR(max))\n",
      "2024-04-28 16:34:01,528 INFO sqlalchemy.engine.Engine [generated in 0.00090s] ()\n",
      "2024-04-28 16:34:01,533 INFO sqlalchemy.engine.Engine SELECT 1 FROM fn_listextendedproperty(default, default, default, default, default, default, default)\n",
      "2024-04-28 16:34:01,534 INFO sqlalchemy.engine.Engine [generated in 0.00090s] ()\n",
      "2024-04-28 16:34:01,560 INFO sqlalchemy.engine.Engine BEGIN (implicit)\n",
      "2024-04-28 16:34:01,563 INFO sqlalchemy.engine.Engine SELECT [INFORMATION_SCHEMA].[TABLES].[TABLE_NAME] \n",
      "FROM [INFORMATION_SCHEMA].[TABLES] \n",
      "WHERE ([INFORMATION_SCHEMA].[TABLES].[TABLE_TYPE] = CAST(? AS NVARCHAR(max)) OR [INFORMATION_SCHEMA].[TABLES].[TABLE_TYPE] = CAST(? AS NVARCHAR(max))) AND [INFORMATION_SCHEMA].[TABLES].[TABLE_NAME] = CAST(? AS NVARCHAR(max)) AND [INFORMATION_SCHEMA].[TABLES].[TABLE_SCHEMA] = CAST(? AS NVARCHAR(max))\n",
      "2024-04-28 16:34:01,564 INFO sqlalchemy.engine.Engine [generated in 0.00086s] ('BASE TABLE', 'VIEW', 'fact_table', 'dbo')\n",
      "2024-04-28 16:34:01,577 INFO sqlalchemy.engine.Engine SELECT [INFORMATION_SCHEMA].[TABLES].[TABLE_NAME] \n",
      "FROM [INFORMATION_SCHEMA].[TABLES] \n",
      "WHERE ([INFORMATION_SCHEMA].[TABLES].[TABLE_TYPE] = CAST(? AS NVARCHAR(max)) OR [INFORMATION_SCHEMA].[TABLES].[TABLE_TYPE] = CAST(? AS NVARCHAR(max))) AND [INFORMATION_SCHEMA].[TABLES].[TABLE_NAME] = CAST(? AS NVARCHAR(max)) AND [INFORMATION_SCHEMA].[TABLES].[TABLE_SCHEMA] = CAST(? AS NVARCHAR(max))\n",
      "2024-04-28 16:34:01,578 INFO sqlalchemy.engine.Engine [cached since 0.01514s ago] ('BASE TABLE', 'VIEW', 'dim_datetime', 'dbo')\n",
      "2024-04-28 16:34:01,589 INFO sqlalchemy.engine.Engine SELECT [INFORMATION_SCHEMA].[TABLES].[TABLE_NAME] \n",
      "FROM [INFORMATION_SCHEMA].[TABLES] \n",
      "WHERE ([INFORMATION_SCHEMA].[TABLES].[TABLE_TYPE] = CAST(? AS NVARCHAR(max)) OR [INFORMATION_SCHEMA].[TABLES].[TABLE_TYPE] = CAST(? AS NVARCHAR(max))) AND [INFORMATION_SCHEMA].[TABLES].[TABLE_NAME] = CAST(? AS NVARCHAR(max)) AND [INFORMATION_SCHEMA].[TABLES].[TABLE_SCHEMA] = CAST(? AS NVARCHAR(max))\n",
      "2024-04-28 16:34:01,590 INFO sqlalchemy.engine.Engine [cached since 0.02665s ago] ('BASE TABLE', 'VIEW', 'dim_payment', 'dbo')\n",
      "2024-04-28 16:34:01,601 INFO sqlalchemy.engine.Engine SELECT [INFORMATION_SCHEMA].[TABLES].[TABLE_NAME] \n",
      "FROM [INFORMATION_SCHEMA].[TABLES] \n",
      "WHERE ([INFORMATION_SCHEMA].[TABLES].[TABLE_TYPE] = CAST(? AS NVARCHAR(max)) OR [INFORMATION_SCHEMA].[TABLES].[TABLE_TYPE] = CAST(? AS NVARCHAR(max))) AND [INFORMATION_SCHEMA].[TABLES].[TABLE_NAME] = CAST(? AS NVARCHAR(max)) AND [INFORMATION_SCHEMA].[TABLES].[TABLE_SCHEMA] = CAST(? AS NVARCHAR(max))\n",
      "2024-04-28 16:34:01,602 INFO sqlalchemy.engine.Engine [cached since 0.03899s ago] ('BASE TABLE', 'VIEW', 'dim_rate', 'dbo')\n",
      "2024-04-28 16:34:01,613 INFO sqlalchemy.engine.Engine COMMIT\n",
      "2024-04-28 16:34:21,860 INFO sqlalchemy.engine.Engine BEGIN (implicit)\n"
     ]
    }
   ],
   "source": [
    "# Base.metadata.create_all(engine)\n",
    "\n",
    "\n",
    "# # Create session\n",
    "# Session = sessionmaker(bind=engine, future=True)\n",
    "# session = Session()\n",
    "\n",
    "# # Example of inserting data into tables\n",
    "# bulk_insert_from_dataframe(session, FactTable, fact_table)\n",
    "# bulk_insert_from_dataframe(session, DimDatetime, dim_datetime)\n",
    "# bulk_insert_from_dataframe(session, DimPayment, dim_payment)\n",
    "# bulk_insert_from_dataframe(session, DimRate, dim_rate)\n",
    "\n",
    "\n",
    "# # Close the session after all operations\n",
    "# session.close()"
   ]
  },
  {
   "cell_type": "markdown",
   "id": "8efbfdab",
   "metadata": {},
   "source": [
    "## Future Work\n",
    "- Implement data quality checks\n",
    "- Implement log table to monitor ingestion process"
   ]
  }
 ],
 "metadata": {
  "kernelspec": {
   "display_name": "Python 3 (ipykernel)",
   "language": "python",
   "name": "python3"
  },
  "language_info": {
   "codemirror_mode": {
    "name": "ipython",
    "version": 3
   },
   "file_extension": ".py",
   "mimetype": "text/x-python",
   "name": "python",
   "nbconvert_exporter": "python",
   "pygments_lexer": "ipython3",
   "version": "3.12.2"
  }
 },
 "nbformat": 4,
 "nbformat_minor": 5
}
